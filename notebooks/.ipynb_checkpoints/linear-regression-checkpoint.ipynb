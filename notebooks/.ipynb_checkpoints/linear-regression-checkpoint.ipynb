{
 "cells": [
  {
   "cell_type": "code",
   "execution_count": 1,
   "id": "54c56b47-9138-4f65-a5be-d6e3613aa82b",
   "metadata": {},
   "outputs": [],
   "source": [
    "# add parent directory to path: enable import from parent dir\n",
    "import math\n",
    "import sys\n",
    "sys.path.append('../')\n",
    "\n",
    "import numpy as np\n",
    "from matplotlib import pyplot as plt\n",
    "\n",
    "from helpers.sample_data import linear_data, non_linear_data\n",
    "from helpers.loss_functions import mse\n",
    "from helpers.utils.transforms import to_poly"
   ]
  },
  {
   "cell_type": "code",
   "execution_count": 69,
   "id": "fdc54c1c-1cfa-45e9-91fd-3cf8c8d02fee",
   "metadata": {},
   "outputs": [],
   "source": [
    "class LinearRegression:\n",
    "    def __init__(\n",
    "        self,\n",
    "        epochs=1000,\n",
    "        lr=0.0005,\n",
    "    ):\n",
    "        self.epochs = epochs\n",
    "        self.lr = lr\n",
    "        self.losses = []\n",
    "        \n",
    "    def _gradient(self, labels, preds, data):\n",
    "        return -(labels - preds).dot(data)\n",
    "    \n",
    "    def _init_params(self, n_features):\n",
    "        # xavier weight initialization\n",
    "        x_range = 1 / (math.sqrt(n_features))\n",
    "        self.params = np.random.uniform(\n",
    "            -x_range,\n",
    "            x_range,\n",
    "            (n_features, )\n",
    "        )\n",
    "        \n",
    "    def train(self, data, labels):\n",
    "        # add bias\n",
    "        data = np.c_[np.ones(data.shape), data]\n",
    "        self.n, self.n_features = data.shape\n",
    "        self._init_params(self.n_features)\n",
    "        \n",
    "        for iteration in range(self.epochs):\n",
    "            preds = data.dot(self.params)\n",
    "            loss = mse(labels, preds)\n",
    "            self.losses.append(loss)\n",
    "            grad_params = self._gradient(\n",
    "                labels.ravel(), \n",
    "                preds,\n",
    "                data,\n",
    "            )\n",
    "            self.params -= self.lr * grad_params\n",
    "            \n",
    "            \n",
    "    def predict(self, X):\n",
    "        # add bias\n",
    "        X = np.c_[np.ones(X.shape), X]\n",
    "        preds = X.dot(self.params)\n",
    "        return preds"
   ]
  },
  {
   "cell_type": "code",
   "execution_count": 70,
   "id": "9afeb282-4f9f-4e54-a5f4-da5e907f61ad",
   "metadata": {},
   "outputs": [],
   "source": [
    "class PolynomialRegression(LinearRegression):\n",
    "    def __init__(\n",
    "        self,\n",
    "        epochs=1000,\n",
    "        lr=0.0005,\n",
    "        degree=2,\n",
    "    ):\n",
    "        self.degree = degree\n",
    "        super().__init__(epochs, lr)\n",
    "        \n",
    "    def train(self, data, labels):\n",
    "        super().train(to_poly(data, self.degree), labels)\n",
    "        \n",
    "    def predict(self, X):\n",
    "        return super().predict(to_poly(X, self.degree))"
   ]
  },
  {
   "cell_type": "markdown",
   "id": "6eafb7ab-bd37-4509-bc8b-3f4058f87370",
   "metadata": {},
   "source": [
    "## Test"
   ]
  },
  {
   "cell_type": "code",
   "execution_count": 99,
   "id": "20a8d450-2751-40ac-a65a-140aec19d8d6",
   "metadata": {},
   "outputs": [],
   "source": [
    "x, y, coef = linear_data(500, 1, noise=0.5, seed=np.random.randint(10))\n",
    "x_train, x_test = x[:400], x[400:]\n",
    "y_train, y_test = y[:400], y[400:]"
   ]
  },
  {
   "cell_type": "code",
   "execution_count": 106,
   "id": "51200512-526b-43e7-a3ec-a1b79d3003b1",
   "metadata": {},
   "outputs": [
    {
     "data": {
      "text/plain": [
       "<matplotlib.collections.PathCollection at 0x140663e80>"
      ]
     },
     "execution_count": 106,
     "metadata": {},
     "output_type": "execute_result"
    },
    {
     "data": {
      "image/png": "[encoded data removed]",
      "text/plain": [
       "<Figure size 432x288 with 1 Axes>"
      ]
     },
     "metadata": {
      "needs_background": "light"
     },
     "output_type": "display_data"
    }
   ],
   "source": [
    "x_poly, y_poly, coef_poly = non_linear_data(500, 1, noise=0, seed=np.random.randint(10), degree=8)\n",
    "x_train_poly, x_test_poly = x_poly[:400], x_poly[400:]\n",
    "y_train_poly, y_test_poly = y_poly[:400], y_poly[400:]\n",
    "\n",
    "plt.scatter(x_train_poly, y_train_poly)"
   ]
  },
  {
   "cell_type": "code",
   "execution_count": 122,
   "id": "bd9d35b6-c3b4-4f1f-a14d-a217a1a6c589",
   "metadata": {},
   "outputs": [
    {
     "data": {
      "text/plain": [
       "0.15296715284440698"
      ]
     },
     "execution_count": 122,
     "metadata": {},
     "output_type": "execute_result"
    }
   ],
   "source": [
    "lr = LinearRegression(500)\n",
    "lr.train(x_train, y_train)\n",
    "\n",
    "preds = lr.predict(x_test)\n",
    "mse(preds, y_test)"
   ]
  },
  {
   "cell_type": "code",
   "execution_count": 84,
   "id": "725ac0e0-8b53-4121-8b38-f9d59fbce1a9",
   "metadata": {},
   "outputs": [
    {
     "data": {
      "text/plain": [
       "<matplotlib.collections.PathCollection at 0x137e3e970>"
      ]
     },
     "execution_count": 84,
     "metadata": {},
     "output_type": "execute_result"
    },
    {
     "data": {
      "image/png": "[encoded data removed]",
      "text/plain": [
       "<Figure size 432x288 with 1 Axes>"
      ]
     },
     "metadata": {
      "needs_background": "light"
     },
     "output_type": "display_data"
    }
   ],
   "source": [
    "plt.scatter(x_test, y_test)\n",
    "plt.scatter(x_test, preds)"
   ]
  },
  {
   "cell_type": "code",
   "execution_count": 107,
   "id": "bb7c4673-7a01-4adb-bd25-0ccee813ddf9",
   "metadata": {},
   "outputs": [
    {
     "data": {
      "text/plain": [
       "0.21331756186342254"
      ]
     },
     "execution_count": 107,
     "metadata": {},
     "output_type": "execute_result"
    }
   ],
   "source": [
    "lr = LinearRegression(500)\n",
    "lr.train(x_train_poly, y_train_poly)\n",
    "\n",
    "preds_poly = lr.predict(x_test_poly)\n",
    "mse(preds_poly, y_test_poly)"
   ]
  },
  {
   "cell_type": "code",
   "execution_count": 108,
   "id": "9a998b89-80de-407a-a8b9-5e71e2e0c8e6",
   "metadata": {},
   "outputs": [
    {
     "data": {
      "text/plain": [
       "<matplotlib.collections.PathCollection at 0x1406c9ac0>"
      ]
     },
     "execution_count": 108,
     "metadata": {},
     "output_type": "execute_result"
    },
    {
     "data": {
      "image/png": "[encoded data removed]",
      "text/plain": [
       "<Figure size 432x288 with 1 Axes>"
      ]
     },
     "metadata": {
      "needs_background": "light"
     },
     "output_type": "display_data"
    }
   ],
   "source": [
    "plt.scatter(x_test_poly, y_test_poly)\n",
    "plt.scatter(x_test_poly, preds_poly)"
   ]
  },
  {
   "cell_type": "code",
   "execution_count": 123,
   "id": "5ff87551-1360-4a46-99ef-a1eff69f0d26",
   "metadata": {},
   "outputs": [
    {
     "data": {
      "text/plain": [
       "0.3023806480339159"
      ]
     },
     "execution_count": 123,
     "metadata": {},
     "output_type": "execute_result"
    }
   ],
   "source": [
    "pr = PolynomialRegression(500, degree=5)\n",
    "pr.train(x_train_poly, y_train_poly)\n",
    "\n",
    "preds = pr.predict(x_test_poly)\n",
    "mse(preds, y_test_poly)"
   ]
  },
  {
   "cell_type": "code",
   "execution_count": 121,
   "id": "2799a8db-d7a8-4ffe-9914-0c0d69519368",
   "metadata": {},
   "outputs": [
    {
     "data": {
      "text/plain": [
       "<matplotlib.collections.PathCollection at 0x140cd9880>"
      ]
     },
     "execution_count": 121,
     "metadata": {},
     "output_type": "execute_result"
    },
    {
     "data": {
      "image/png": "[encoded data removed]",
      "text/plain": [
       "<Figure size 432x288 with 1 Axes>"
      ]
     },
     "metadata": {
      "needs_background": "light"
     },
     "output_type": "display_data"
    }
   ],
   "source": [
    "plt.scatter(x_test_poly, y_test_poly)\n",
    "plt.scatter(x_test_poly, preds)"
   ]
  }
 ],
 "metadata": {
  "kernelspec": {
   "display_name": "Python [conda env:root] *",
   "language": "python",
   "name": "conda-root-py"
  },
  "language_info": {
   "codemirror_mode": {
    "name": "ipython",
    "version": 3
   },
   "file_extension": ".py",
   "mimetype": "text/x-python",
   "name": "python",
   "nbconvert_exporter": "python",
   "pygments_lexer": "ipython3",
   "version": "3.9.7"
  }
 },
 "nbformat": 4,
 "nbformat_minor": 5
}
