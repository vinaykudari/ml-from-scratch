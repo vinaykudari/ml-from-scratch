{
 "cells": [
  {
   "cell_type": "code",
   "execution_count": 2,
   "id": "54c56b47-9138-4f65-a5be-d6e3613aa82b",
   "metadata": {},
   "outputs": [],
   "source": [
    "# add parent directory to path: enable import from parent dir\n",
    "import sys\n",
    "sys.path.append('../')\n",
    "\n",
    "import math\n",
    "import numpy as np\n",
    "from matplotlib import pyplot as plt\n",
    "\n",
    "from helpers.sample_data import linear_data\n",
    "from helpers.loss_functions import mse"
   ]
  },
  {
   "cell_type": "code",
   "execution_count": 95,
   "id": "fdc54c1c-1cfa-45e9-91fd-3cf8c8d02fee",
   "metadata": {},
   "outputs": [],
   "source": [
    "class LinearRegression:\n",
    "    def __init__(\n",
    "        self,\n",
    "        epochs=1000,\n",
    "        lr=0.0005,\n",
    "    ):\n",
    "        self.epochs = epochs\n",
    "        self.lr = lr\n",
    "        self.losses = []\n",
    "    \n",
    "    def _init_params(self, n_features):\n",
    "        # xavier weight initialization\n",
    "        x_range = 1 / (math.sqrt(n_features))\n",
    "        self.params = np.random.uniform(\n",
    "            -x_range,\n",
    "            x_range,\n",
    "            (n_features, )\n",
    "        )\n",
    "        \n",
    "    def train(self, data, labels):\n",
    "        # add bias\n",
    "        data = np.c_[np.ones(data.shape), data]\n",
    "        self.n, self.n_features = data.shape\n",
    "        self._init_params(self.n_features)\n",
    "        \n",
    "        for iteration in range(self.epochs):\n",
    "            preds = data.dot(self.params)\n",
    "            loss = mse(labels, preds)\n",
    "            self.losses.append(loss)\n",
    "            grad_params = -(labels - preds).dot(data)\n",
    "            self.params -= self.lr * grad_params\n",
    "            \n",
    "            \n",
    "    def predict(self, X):\n",
    "        # add bias\n",
    "        X = np.c_[np.ones(X.shape), X]\n",
    "        preds = X.dot(self.params)\n",
    "        return preds"
   ]
  },
  {
   "cell_type": "markdown",
   "id": "6eafb7ab-bd37-4509-bc8b-3f4058f87370",
   "metadata": {},
   "source": [
    "## Test"
   ]
  },
  {
   "cell_type": "code",
   "execution_count": 96,
   "id": "20a8d450-2751-40ac-a65a-140aec19d8d6",
   "metadata": {},
   "outputs": [
    {
     "data": {
      "text/plain": [
       "[<matplotlib.lines.Line2D at 0x13ade8220>]"
      ]
     },
     "execution_count": 96,
     "metadata": {},
     "output_type": "execute_result"
    },
    {
     "data": {
      "image/png": "[encoded data removed]",
      "text/plain": [
       "<Figure size 432x288 with 1 Axes>"
      ]
     },
     "metadata": {
      "needs_background": "light"
     },
     "output_type": "display_data"
    }
   ],
   "source": [
    "x, y, coef = linear_data(100, 1, noise=0.5, seed=np.random.randint(10))\n",
    "x_train, x_test = x[:90], x[90:]\n",
    "y_train, y_test = y[:90], y[90:]\n",
    "\n",
    "plt.plot(x_train, y_train)"
   ]
  },
  {
   "cell_type": "code",
   "execution_count": 97,
   "id": "b7f41ddf-b92c-40ad-ab98-3d51ac1284fe",
   "metadata": {},
   "outputs": [
    {
     "data": {
      "text/plain": [
       "0.029819894738076454"
      ]
     },
     "execution_count": 97,
     "metadata": {},
     "output_type": "execute_result"
    }
   ],
   "source": [
    "lr = LinearRegression(500)\n",
    "lr.train(x_train, y_train)\n",
    "\n",
    "preds = lr.predict(x_test)\n",
    "mse(preds, y_test)"
   ]
  },
  {
   "cell_type": "code",
   "execution_count": 98,
   "id": "db530094-06c1-430e-93d5-d1ee4c62677f",
   "metadata": {},
   "outputs": [
    {
     "data": {
      "text/plain": [
       "[<matplotlib.lines.Line2D at 0x13ae3feb0>]"
      ]
     },
     "execution_count": 98,
     "metadata": {},
     "output_type": "execute_result"
    },
    {
     "data": {
      "image/png": "[encoded data removed]",
      "text/plain": [
       "<Figure size 432x288 with 1 Axes>"
      ]
     },
     "metadata": {
      "needs_background": "light"
     },
     "output_type": "display_data"
    }
   ],
   "source": [
    "plt.plot(lr.losses)"
   ]
  }
 ],
 "metadata": {
  "kernelspec": {
   "display_name": "Python [conda env:root] *",
   "language": "python",
   "name": "conda-root-py"
  },
  "language_info": {
   "codemirror_mode": {
    "name": "ipython",
    "version": 3
   },
   "file_extension": ".py",
   "mimetype": "text/x-python",
   "name": "python",
   "nbconvert_exporter": "python",
   "pygments_lexer": "ipython3",
   "version": "3.9.7"
  }
 },
 "nbformat": 4,
 "nbformat_minor": 5
}
