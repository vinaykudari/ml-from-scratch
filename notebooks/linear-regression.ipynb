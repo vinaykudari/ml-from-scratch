{
 "cells": [
  {
   "cell_type": "code",
   "execution_count": 1,
   "id": "54c56b47-9138-4f65-a5be-d6e3613aa82b",
   "metadata": {},
   "outputs": [],
   "source": [
    "# add parent directory to path: enable import from parent dir\n",
    "import math\n",
    "import sys\n",
    "sys.path.append('../')\n",
    "\n",
    "import numpy as np\n",
    "from matplotlib import pyplot as plt\n",
    "\n",
    "from helpers.sample_data import linear_data, non_linear_data\n",
    "from helpers.loss_functions import mse\n",
    "from helpers.utils.transforms import to_poly\n",
    "from helpers.utils.regularization import LassoRegularization, \\\n",
    "    RidgeRegularization, ElasticNetRegularization"
   ]
  },
  {
   "cell_type": "code",
   "execution_count": 2,
   "id": "fdc54c1c-1cfa-45e9-91fd-3cf8c8d02fee",
   "metadata": {},
   "outputs": [],
   "source": [
    "class LinearRegression:\n",
    "    def __init__(\n",
    "        self,\n",
    "        epochs=1000,\n",
    "        lr=0.0005,\n",
    "    ):\n",
    "        self.regularization = lambda x: 0\n",
    "        self.regularization.grad = lambda x: 0\n",
    "        self.epochs = epochs\n",
    "        self.lr = lr\n",
    "        self.losses = []\n",
    "        \n",
    "    def _gradient(self, labels, preds, data):\n",
    "        return -(labels - preds).dot(data)\n",
    "    \n",
    "    def _init_params(self, n_features):\n",
    "        # xavier weight initialization\n",
    "        x_range = 1 / (math.sqrt(n_features))\n",
    "        self.params = np.random.uniform(\n",
    "            -x_range,\n",
    "            x_range,\n",
    "            (n_features, )\n",
    "        )\n",
    "        \n",
    "    def train(self, data, labels):\n",
    "        # add bias\n",
    "        data = np.c_[np.ones(data.shape), data]\n",
    "        self.n, self.n_features = data.shape\n",
    "        self._init_params(self.n_features)\n",
    "        \n",
    "        for iteration in range(self.epochs):\n",
    "            preds = data.dot(self.params)\n",
    "            loss = mse(labels, preds) + self.regularization(self.params)\n",
    "            self.losses.append(loss)\n",
    "            gradient = self._gradient(\n",
    "                labels.ravel(), \n",
    "                preds,\n",
    "                data,\n",
    "            )\n",
    "            self.params -= self.lr * gradient\n",
    "            \n",
    "            \n",
    "    def predict(self, X):\n",
    "        # add bias\n",
    "        X = np.c_[np.ones(X.shape), X]\n",
    "        preds = X.dot(self.params)\n",
    "        return preds"
   ]
  },
  {
   "cell_type": "code",
   "execution_count": 3,
   "id": "9afeb282-4f9f-4e54-a5f4-da5e907f61ad",
   "metadata": {},
   "outputs": [],
   "source": [
    "class PolynomialRegression(LinearRegression):\n",
    "    def __init__(\n",
    "        self,\n",
    "        epochs=1000,\n",
    "        lr=0.0005,\n",
    "        degree=2,\n",
    "    ):\n",
    "        self.degree = degree\n",
    "        super().__init__(epochs, lr)\n",
    "        \n",
    "    def train(self, data, labels):\n",
    "        super().train(to_poly(data, self.degree), labels)\n",
    "        \n",
    "    def predict(self, X):\n",
    "        return super().predict(to_poly(X, self.degree))"
   ]
  },
  {
   "cell_type": "code",
   "execution_count": 4,
   "id": "5608f72d-2adc-4da3-9fe0-d34c3e88e1fb",
   "metadata": {},
   "outputs": [],
   "source": [
    "class LassoRegression(LinearRegression):\n",
    "    def __init__(\n",
    "        self,\n",
    "        epochs=1000,\n",
    "        lr=0.0005,\n",
    "        alpha=0.001,\n",
    "    ):\n",
    "        self.epochs = epochs\n",
    "        self.lr = lr\n",
    "        self.alpha = alpha\n",
    "        self.regularization = LassoRegularization(alpha=alpha)\n",
    "        self.losses = []\n",
    "        \n",
    "    def _gradient(self, labels, preds, data):\n",
    "        return -(labels - preds).dot(data) + self.regularization.grad(self.params)"
   ]
  },
  {
   "cell_type": "code",
   "execution_count": 5,
   "id": "aab6ced6-2dce-4ecb-b94c-5d6598f217c2",
   "metadata": {},
   "outputs": [],
   "source": [
    "class LassoPolynomialRegression(PolynomialRegression):\n",
    "    def __init__(\n",
    "        self,\n",
    "        epochs=1000,\n",
    "        lr=0.0005,\n",
    "        alpha=0.001,\n",
    "        degree=2,\n",
    "    ):\n",
    "        self.epochs = epochs\n",
    "        self.lr = lr\n",
    "        self.degree = degree\n",
    "        self.alpha = alpha\n",
    "        self.regularization = LassoRegularization(alpha=alpha)\n",
    "        self.losses = []\n",
    "        \n",
    "    def _gradient(self, labels, preds, data):\n",
    "        return -(labels - preds).dot(data) + self.regularization.grad(self.params)"
   ]
  },
  {
   "cell_type": "code",
   "execution_count": 6,
   "id": "93daad95-20ae-49f0-b5f9-10cd274f16b9",
   "metadata": {},
   "outputs": [],
   "source": [
    "class RidgeRegression(LinearRegression):\n",
    "    def __init__(\n",
    "        self,\n",
    "        epochs=1000,\n",
    "        lr=0.0005,\n",
    "        alpha=0.001,\n",
    "    ):\n",
    "        self.epochs = epochs\n",
    "        self.lr = lr\n",
    "        self.alpha = alpha\n",
    "        self.regularization = RidgeRegularization(alpha=alpha)\n",
    "        self.losses = []\n",
    "        \n",
    "    def _gradient(self, labels, preds, data):\n",
    "        return -(labels - preds).dot(data) + self.regularization.grad(self.params)"
   ]
  },
  {
   "cell_type": "code",
   "execution_count": 7,
   "id": "4612d366-1f0f-45c2-a311-c5e1e01fbf32",
   "metadata": {},
   "outputs": [],
   "source": [
    "class RidgePolynomialRegression(PolynomialRegression):\n",
    "    def __init__(\n",
    "        self,\n",
    "        epochs=1000,\n",
    "        lr=0.0005,\n",
    "        alpha=0.001,\n",
    "        degree=2,\n",
    "    ):\n",
    "        self.epochs = epochs\n",
    "        self.lr = lr\n",
    "        self.degree = degree\n",
    "        self.alpha = alpha\n",
    "        self.regularization = RidgeRegularization(alpha=alpha)\n",
    "        self.losses = []\n",
    "        \n",
    "    def _gradient(self, labels, preds, data):\n",
    "        return -(labels - preds).dot(data) + self.regularization.grad(self.params)"
   ]
  },
  {
   "cell_type": "code",
   "execution_count": 8,
   "id": "798a76ce-0107-4f9b-8643-27b8485a967e",
   "metadata": {},
   "outputs": [],
   "source": [
    "class ElasticNetPolynomialRegression(PolynomialRegression):\n",
    "    def __init__(\n",
    "        self,\n",
    "        epochs=1000,\n",
    "        lr=0.0005,\n",
    "        alpha=0.001,\n",
    "        degree=2,\n",
    "    ):\n",
    "        self.epochs = epochs\n",
    "        self.lr = lr\n",
    "        self.degree = degree\n",
    "        self.alpha = alpha\n",
    "        self.regularization = ElasticNetRegularization(alpha=alpha)\n",
    "        self.losses = []\n",
    "        \n",
    "    def _gradient(self, labels, preds, data):\n",
    "        return -(labels - preds).dot(data) + self.regularization.grad(self.params)"
   ]
  },
  {
   "cell_type": "markdown",
   "id": "6eafb7ab-bd37-4509-bc8b-3f4058f87370",
   "metadata": {},
   "source": [
    "## Test"
   ]
  },
  {
   "cell_type": "code",
   "execution_count": 9,
   "id": "20a8d450-2751-40ac-a65a-140aec19d8d6",
   "metadata": {},
   "outputs": [],
   "source": [
    "x, y, coef = linear_data(500, 1, noise=0.5, seed=125)\n",
    "x_train, x_test = x[:400], x[400:]\n",
    "y_train, y_test = y[:400], y[400:]"
   ]
  },
  {
   "cell_type": "code",
   "execution_count": 10,
   "id": "51200512-526b-43e7-a3ec-a1b79d3003b1",
   "metadata": {},
   "outputs": [
    {
     "data": {
      "text/plain": [
       "<matplotlib.collections.PathCollection at 0x117ba9430>"
      ]
     },
     "execution_count": 10,
     "metadata": {},
     "output_type": "execute_result"
    },
    {
     "data": {
      "image/png": "[encoded data removed]",
      "text/plain": [
       "<Figure size 432x288 with 1 Axes>"
      ]
     },
     "metadata": {
      "needs_background": "light"
     },
     "output_type": "display_data"
    }
   ],
   "source": [
    "x_poly, y_poly, coef_poly = non_linear_data(500, 1, noise=0, seed=120, degree=6)\n",
    "x_train_poly, x_test_poly = x_poly[:400], x_poly[400:]\n",
    "y_train_poly, y_test_poly = y_poly[:400], y_poly[400:]\n",
    "\n",
    "plt.scatter(x_train_poly, y_train_poly)"
   ]
  },
  {
   "cell_type": "markdown",
   "id": "b242068f-f264-4dc3-9bc8-6881738f6168",
   "metadata": {},
   "source": [
    "### Linear Regression"
   ]
  },
  {
   "cell_type": "code",
   "execution_count": 11,
   "id": "bd9d35b6-c3b4-4f1f-a14d-a217a1a6c589",
   "metadata": {},
   "outputs": [
    {
     "data": {
      "text/plain": [
       "0.30290925787890727"
      ]
     },
     "execution_count": 11,
     "metadata": {},
     "output_type": "execute_result"
    }
   ],
   "source": [
    "lr = LinearRegression(500)\n",
    "lr.train(x_train, y_train)\n",
    "\n",
    "preds = lr.predict(x_test)\n",
    "mse(preds, y_test)"
   ]
  },
  {
   "cell_type": "code",
   "execution_count": 12,
   "id": "725ac0e0-8b53-4121-8b38-f9d59fbce1a9",
   "metadata": {},
   "outputs": [
    {
     "data": {
      "text/plain": [
       "<matplotlib.collections.PathCollection at 0x117db7ac0>"
      ]
     },
     "execution_count": 12,
     "metadata": {},
     "output_type": "execute_result"
    },
    {
     "data": {
      "image/png": "[encoded data removed]",
      "text/plain": [
       "<Figure size 432x288 with 1 Axes>"
      ]
     },
     "metadata": {
      "needs_background": "light"
     },
     "output_type": "display_data"
    }
   ],
   "source": [
    "plt.scatter(x_test, y_test)\n",
    "plt.scatter(x_test, preds)"
   ]
  },
  {
   "cell_type": "markdown",
   "id": "f6f5e8aa-18ae-47e3-a340-b3a3ec148cad",
   "metadata": {},
   "source": [
    "### Lasso Regression"
   ]
  },
  {
   "cell_type": "code",
   "execution_count": 13,
   "id": "d9154e4f-1ac2-4a42-a116-28e5f11729da",
   "metadata": {},
   "outputs": [
    {
     "data": {
      "text/plain": [
       "0.3030261776962207"
      ]
     },
     "execution_count": 13,
     "metadata": {},
     "output_type": "execute_result"
    }
   ],
   "source": [
    "lr = LassoRegression(500)\n",
    "lr.train(x_train, y_train)\n",
    "\n",
    "preds = lr.predict(x_test)\n",
    "mse(preds, y_test)"
   ]
  },
  {
   "cell_type": "code",
   "execution_count": 14,
   "id": "b831ddad-0fd6-4a66-a4f6-300fca9fe692",
   "metadata": {},
   "outputs": [
    {
     "data": {
      "text/plain": [
       "<matplotlib.collections.PathCollection at 0x117f3b250>"
      ]
     },
     "execution_count": 14,
     "metadata": {},
     "output_type": "execute_result"
    },
    {
     "data": {
      "image/png": "[encoded data removed]",
      "text/plain": [
       "<Figure size 432x288 with 1 Axes>"
      ]
     },
     "metadata": {
      "needs_background": "light"
     },
     "output_type": "display_data"
    }
   ],
   "source": [
    "plt.scatter(x_test, y_test)\n",
    "plt.scatter(x_test, preds)"
   ]
  },
  {
   "cell_type": "markdown",
   "id": "044cd0b1-6b1c-40cf-a3c5-82d555da8965",
   "metadata": {},
   "source": [
    "### Linear Regression - Polynomial Features"
   ]
  },
  {
   "cell_type": "code",
   "execution_count": 15,
   "id": "bb7c4673-7a01-4adb-bd25-0ccee813ddf9",
   "metadata": {},
   "outputs": [
    {
     "data": {
      "text/plain": [
       "0.1258704361115851"
      ]
     },
     "execution_count": 15,
     "metadata": {},
     "output_type": "execute_result"
    }
   ],
   "source": [
    "lr = LinearRegression(500)\n",
    "lr.train(x_train_poly, y_train_poly)\n",
    "\n",
    "preds_poly = lr.predict(x_test_poly)\n",
    "mse(preds_poly, y_test_poly)"
   ]
  },
  {
   "cell_type": "code",
   "execution_count": 16,
   "id": "9a998b89-80de-407a-a8b9-5e71e2e0c8e6",
   "metadata": {},
   "outputs": [
    {
     "data": {
      "text/plain": [
       "<matplotlib.collections.PathCollection at 0x117f9dd30>"
      ]
     },
     "execution_count": 16,
     "metadata": {},
     "output_type": "execute_result"
    },
    {
     "data": {
      "image/png": "[encoded data removed]",
      "text/plain": [
       "<Figure size 432x288 with 1 Axes>"
      ]
     },
     "metadata": {
      "needs_background": "light"
     },
     "output_type": "display_data"
    }
   ],
   "source": [
    "plt.scatter(x_test_poly, y_test_poly)\n",
    "plt.scatter(x_test_poly, preds_poly)"
   ]
  },
  {
   "cell_type": "markdown",
   "id": "df560fea-2b8e-480b-a8cf-83e2f2167a34",
   "metadata": {},
   "source": [
    "### Polynomial Regression"
   ]
  },
  {
   "cell_type": "code",
   "execution_count": 17,
   "id": "5ff87551-1360-4a46-99ef-a1eff69f0d26",
   "metadata": {},
   "outputs": [
    {
     "data": {
      "text/plain": [
       "0.2225419894397878"
      ]
     },
     "execution_count": 17,
     "metadata": {},
     "output_type": "execute_result"
    }
   ],
   "source": [
    "pr = PolynomialRegression(500, degree=6)\n",
    "pr.train(x_train_poly, y_train_poly)\n",
    "\n",
    "preds = pr.predict(x_test_poly)\n",
    "mse(preds, y_test_poly)"
   ]
  },
  {
   "cell_type": "code",
   "execution_count": 18,
   "id": "2799a8db-d7a8-4ffe-9914-0c0d69519368",
   "metadata": {},
   "outputs": [
    {
     "data": {
      "text/plain": [
       "<matplotlib.collections.PathCollection at 0x126913100>"
      ]
     },
     "execution_count": 18,
     "metadata": {},
     "output_type": "execute_result"
    },
    {
     "data": {
      "image/png": "[encoded data removed]",
      "text/plain": [
       "<Figure size 432x288 with 1 Axes>"
      ]
     },
     "metadata": {
      "needs_background": "light"
     },
     "output_type": "display_data"
    }
   ],
   "source": [
    "plt.scatter(x_test_poly, y_test_poly)\n",
    "plt.scatter(x_test_poly, preds)"
   ]
  },
  {
   "cell_type": "markdown",
   "id": "a3db0f20-a149-429a-9b16-7a97a4d9ec5e",
   "metadata": {},
   "source": [
    "### Lasso Polynomial Regression"
   ]
  },
  {
   "cell_type": "code",
   "execution_count": 19,
   "id": "91241efa-60a6-4a68-87a7-766eeb4ad35c",
   "metadata": {},
   "outputs": [
    {
     "data": {
      "text/plain": [
       "0.20958743909658364"
      ]
     },
     "execution_count": 19,
     "metadata": {},
     "output_type": "execute_result"
    }
   ],
   "source": [
    "pr = LassoPolynomialRegression(500, degree=5)\n",
    "pr.train(x_train_poly, y_train_poly)\n",
    "\n",
    "preds = pr.predict(x_test_poly)\n",
    "mse(preds, y_test_poly)"
   ]
  },
  {
   "cell_type": "code",
   "execution_count": 20,
   "id": "a70dd773-e711-4a09-bcd0-b7c67be995e2",
   "metadata": {},
   "outputs": [
    {
     "data": {
      "text/plain": [
       "<matplotlib.collections.PathCollection at 0x126976460>"
      ]
     },
     "execution_count": 20,
     "metadata": {},
     "output_type": "execute_result"
    },
    {
     "data": {
      "image/png": "[encoded data removed]",
      "text/plain": [
       "<Figure size 432x288 with 1 Axes>"
      ]
     },
     "metadata": {
      "needs_background": "light"
     },
     "output_type": "display_data"
    }
   ],
   "source": [
    "plt.scatter(x_test_poly, y_test_poly)\n",
    "plt.scatter(x_test_poly, preds)"
   ]
  },
  {
   "cell_type": "markdown",
   "id": "e99556a1-62a3-47ab-af43-506e6e1c2f53",
   "metadata": {},
   "source": [
    "### Ridge Polynomial Regression"
   ]
  },
  {
   "cell_type": "code",
   "execution_count": 21,
   "id": "7fb4c79f-264c-4922-81c2-514d87440226",
   "metadata": {},
   "outputs": [
    {
     "data": {
      "text/plain": [
       "0.21104162616013067"
      ]
     },
     "execution_count": 21,
     "metadata": {},
     "output_type": "execute_result"
    }
   ],
   "source": [
    "pr = RidgePolynomialRegression(500, degree=5)\n",
    "pr.train(x_train_poly, y_train_poly)\n",
    "\n",
    "preds = pr.predict(x_test_poly)\n",
    "mse(preds, y_test_poly)"
   ]
  },
  {
   "cell_type": "code",
   "execution_count": 22,
   "id": "7a119813-7b18-4bda-a4a9-87f44fbfc622",
   "metadata": {},
   "outputs": [
    {
     "data": {
      "text/plain": [
       "<matplotlib.collections.PathCollection at 0x1269d58b0>"
      ]
     },
     "execution_count": 22,
     "metadata": {},
     "output_type": "execute_result"
    },
    {
     "data": {
      "image/png": "[encoded data removed]",
      "text/plain": [
       "<Figure size 432x288 with 1 Axes>"
      ]
     },
     "metadata": {
      "needs_background": "light"
     },
     "output_type": "display_data"
    }
   ],
   "source": [
    "plt.scatter(x_test_poly, y_test_poly)\n",
    "plt.scatter(x_test_poly, preds)"
   ]
  },
  {
   "cell_type": "markdown",
   "id": "7627844e-a6bf-4afc-9193-e08c273dcaeb",
   "metadata": {},
   "source": [
    "### Elastic-Net Polynomial Regression"
   ]
  },
  {
   "cell_type": "code",
   "execution_count": 23,
   "id": "cdd34dbb-f8e6-4127-93e9-bcf8979c8f4d",
   "metadata": {},
   "outputs": [
    {
     "data": {
      "text/plain": [
       "0.203226163315701"
      ]
     },
     "execution_count": 23,
     "metadata": {},
     "output_type": "execute_result"
    }
   ],
   "source": [
    "pr = ElasticNetPolynomialRegression(500, degree=5)\n",
    "pr.train(x_train_poly, y_train_poly)\n",
    "\n",
    "preds = pr.predict(x_test_poly)\n",
    "mse(preds, y_test_poly)"
   ]
  },
  {
   "cell_type": "code",
   "execution_count": 24,
   "id": "e75edc06-3fdf-4a80-a67b-8873ba1cd6d3",
   "metadata": {},
   "outputs": [
    {
     "data": {
      "text/plain": [
       "<matplotlib.collections.PathCollection at 0x126a37d30>"
      ]
     },
     "execution_count": 24,
     "metadata": {},
     "output_type": "execute_result"
    },
    {
     "data": {
      "image/png": "[encoded data removed]",
      "text/plain": [
       "<Figure size 432x288 with 1 Axes>"
      ]
     },
     "metadata": {
      "needs_background": "light"
     },
     "output_type": "display_data"
    }
   ],
   "source": [
    "plt.scatter(x_test_poly, y_test_poly)\n",
    "plt.scatter(x_test_poly, preds)"
   ]
  }
 ],
 "metadata": {
  "kernelspec": {
   "display_name": "Python [conda env:root] *",
   "language": "python",
   "name": "conda-root-py"
  },
  "language_info": {
   "codemirror_mode": {
    "name": "ipython",
    "version": 3
   },
   "file_extension": ".py",
   "mimetype": "text/x-python",
   "name": "python",
   "nbconvert_exporter": "python",
   "pygments_lexer": "ipython3",
   "version": "3.9.7"
  }
 },
 "nbformat": 4,
 "nbformat_minor": 5
}
